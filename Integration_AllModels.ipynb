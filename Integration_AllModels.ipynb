{
  "nbformat": 4,
  "nbformat_minor": 0,
  "metadata": {
    "colab": {
      "provenance": [],
      "gpuType": "L4",
      "machine_shape": "hm"
    },
    "kernelspec": {
      "name": "python3",
      "display_name": "Python 3"
    },
    "language_info": {
      "name": "python"
    },
    "accelerator": "GPU"
  },
  "cells": [
    {
      "cell_type": "code",
      "source": [
        "!pip install pytube"
      ],
      "metadata": {
        "colab": {
          "base_uri": "https://localhost:8080/"
        },
        "id": "pdTVB2kmugGJ",
        "outputId": "0ee2cd23-1700-4575-85f0-30af2fe7d7a0"
      },
      "execution_count": null,
      "outputs": [
        {
          "output_type": "stream",
          "name": "stdout",
          "text": [
            "Collecting pytube\n",
            "  Downloading pytube-15.0.0-py3-none-any.whl (57 kB)\n",
            "\u001b[?25l     \u001b[90m━━━━━━━━━━━━━━━━━━━━━━━━━━━━━━━━━━━━━━━━\u001b[0m \u001b[32m0.0/57.6 kB\u001b[0m \u001b[31m?\u001b[0m eta \u001b[36m-:--:--\u001b[0m\r\u001b[2K     \u001b[90m━━━━━━━━━━━━━━━━━━━━━━━━━━━━━━━━━━━━━━━━\u001b[0m \u001b[32m57.6/57.6 kB\u001b[0m \u001b[31m2.4 MB/s\u001b[0m eta \u001b[36m0:00:00\u001b[0m\n",
            "\u001b[?25hInstalling collected packages: pytube\n",
            "Successfully installed pytube-15.0.0\n"
          ]
        }
      ]
    },
    {
      "cell_type": "markdown",
      "source": [
        "# Download Video Function"
      ],
      "metadata": {
        "id": "c0c1pOetlOWn"
      }
    },
    {
      "cell_type": "code",
      "source": [
        "import os\n",
        "from pytube import YouTube\n",
        "\n",
        "def Download(link):\n",
        "    youtubeObject = YouTube(link)\n",
        "    youtubeObject = youtubeObject.streams.get_highest_resolution()\n",
        "    try:\n",
        "        video_file_path = youtubeObject.download()\n",
        "        print(\"Download is completed successfully\")\n",
        "\n",
        "    except Exception as e:\n",
        "        print(f\"An error has occurred: {e}\")\n"
      ],
      "metadata": {
        "id": "YUgZGJW3mX4H"
      },
      "execution_count": null,
      "outputs": []
    },
    {
      "cell_type": "code",
      "source": [
        "if __name__ == \"__main__\":\n",
        "    link = input(\"Enter the YouTube video URL: \")\n",
        "    Download(link)"
      ],
      "metadata": {
        "colab": {
          "base_uri": "https://localhost:8080/"
        },
        "id": "4psF1ygNNk7W",
        "outputId": "00323ff5-6b83-418a-acac-f8f354d23666"
      },
      "execution_count": null,
      "outputs": [
        {
          "output_type": "stream",
          "name": "stdout",
          "text": [
            "Enter the YouTube video URL: https://youtu.be/U3PerKPQM0E\\\n",
            "Download is completed successfully\n"
          ]
        }
      ]
    },
    {
      "cell_type": "markdown",
      "source": [
        "# Convert to WAV Function"
      ],
      "metadata": {
        "id": "c18pJZC_uo3b"
      }
    },
    {
      "cell_type": "code",
      "source": [
        "!pip install pydub"
      ],
      "metadata": {
        "colab": {
          "base_uri": "https://localhost:8080/"
        },
        "id": "hXUDzNViwZkx",
        "outputId": "f8714ebe-b356-4621-8665-4501f5c7901f"
      },
      "execution_count": null,
      "outputs": [
        {
          "output_type": "stream",
          "name": "stdout",
          "text": [
            "Collecting pydub\n",
            "  Downloading pydub-0.25.1-py2.py3-none-any.whl (32 kB)\n",
            "Installing collected packages: pydub\n",
            "Successfully installed pydub-0.25.1\n"
          ]
        }
      ]
    },
    {
      "cell_type": "code",
      "source": [
        "from os import path\n",
        "from pydub import AudioSegment\n",
        "\n",
        "def convertwav(src, dst):\n",
        "  sound = AudioSegment.from_file(src,format=\"mp4\")\n",
        "  sound.export(dst, format=\"wav\")\n",
        "\n",
        "src = \"/content/Microsoft (MSFT) Q1 2023 Earnings Call.mp4\"\n",
        "dst = \"test1.wav\"\n",
        "convertwav(src, dst)"
      ],
      "metadata": {
        "id": "jEHWWrzzuoRy"
      },
      "execution_count": null,
      "outputs": []
    },
    {
      "cell_type": "code",
      "source": [
        "import wave\n",
        "import os\n",
        "\n",
        "def split_wav(file_path, chunk_size, output_dir):\n",
        "    with wave.open(file_path, 'rb') as wav:\n",
        "        params = wav.getparams()\n",
        "        frames_per_chunk = chunk_size * params.framerate * params.nchannels\n",
        "        num_chunks = (wav.getnframes() + frames_per_chunk - 1) // frames_per_chunk\n",
        "\n",
        "        for i in range(num_chunks):\n",
        "            output_file = os.path.join(output_dir, f\"chunk_{i+1}.wav\")\n",
        "            with wave.open(output_file, 'wb') as chunk:\n",
        "                chunk.setparams(params)\n",
        "                chunk.writeframes(wav.readframes(int(frames_per_chunk)))"
      ],
      "metadata": {
        "id": "-hLxZ3uCM9ME"
      },
      "execution_count": null,
      "outputs": []
    },
    {
      "cell_type": "code",
      "source": [],
      "metadata": {
        "id": "91g5JWrsF34G"
      },
      "execution_count": null,
      "outputs": []
    },
    {
      "cell_type": "markdown",
      "source": [
        "# WAV to Words"
      ],
      "metadata": {
        "id": "EYAO7aGCxGPN"
      }
    },
    {
      "cell_type": "code",
      "source": [
        "!pip install openai\n",
        "!pip install -U openai-whisper"
      ],
      "metadata": {
        "colab": {
          "base_uri": "https://localhost:8080/"
        },
        "id": "qFo5mMC-zGVK",
        "outputId": "f6a160ba-abaa-4080-8ae8-3471f1888f48"
      },
      "execution_count": null,
      "outputs": [
        {
          "output_type": "stream",
          "name": "stdout",
          "text": [
            "Collecting openai\n",
            "  Downloading openai-1.31.1-py3-none-any.whl (324 kB)\n",
            "\u001b[?25l     \u001b[90m━━━━━━━━━━━━━━━━━━━━━━━━━━━━━━━━━━━━━━━━\u001b[0m \u001b[32m0.0/324.1 kB\u001b[0m \u001b[31m?\u001b[0m eta \u001b[36m-:--:--\u001b[0m\r\u001b[2K     \u001b[91m━━━━━━━━━━━━━━━━━━━━━━━━━━━\u001b[0m\u001b[91m╸\u001b[0m\u001b[90m━━━━━━━━━━━━\u001b[0m \u001b[32m225.3/324.1 kB\u001b[0m \u001b[31m7.6 MB/s\u001b[0m eta \u001b[36m0:00:01\u001b[0m\r\u001b[2K     \u001b[90m━━━━━━━━━━━━━━━━━━━━━━━━━━━━━━━━━━━━━━━━\u001b[0m \u001b[32m324.1/324.1 kB\u001b[0m \u001b[31m7.6 MB/s\u001b[0m eta \u001b[36m0:00:00\u001b[0m\n",
            "\u001b[?25hRequirement already satisfied: anyio<5,>=3.5.0 in /usr/local/lib/python3.10/dist-packages (from openai) (3.7.1)\n",
            "Requirement already satisfied: distro<2,>=1.7.0 in /usr/lib/python3/dist-packages (from openai) (1.7.0)\n",
            "Collecting httpx<1,>=0.23.0 (from openai)\n",
            "  Downloading httpx-0.27.0-py3-none-any.whl (75 kB)\n",
            "\u001b[?25l     \u001b[90m━━━━━━━━━━━━━━━━━━━━━━━━━━━━━━━━━━━━━━━━\u001b[0m \u001b[32m0.0/75.6 kB\u001b[0m \u001b[31m?\u001b[0m eta \u001b[36m-:--:--\u001b[0m\r\u001b[2K     \u001b[90m━━━━━━━━━━━━━━━━━━━━━━━━━━━━━━━━━━━━━━━━\u001b[0m \u001b[32m75.6/75.6 kB\u001b[0m \u001b[31m12.1 MB/s\u001b[0m eta \u001b[36m0:00:00\u001b[0m\n",
            "\u001b[?25hRequirement already satisfied: pydantic<3,>=1.9.0 in /usr/local/lib/python3.10/dist-packages (from openai) (2.7.3)\n",
            "Requirement already satisfied: sniffio in /usr/local/lib/python3.10/dist-packages (from openai) (1.3.1)\n",
            "Requirement already satisfied: tqdm>4 in /usr/local/lib/python3.10/dist-packages (from openai) (4.66.4)\n",
            "Requirement already satisfied: typing-extensions<5,>=4.7 in /usr/local/lib/python3.10/dist-packages (from openai) (4.12.1)\n",
            "Requirement already satisfied: idna>=2.8 in /usr/local/lib/python3.10/dist-packages (from anyio<5,>=3.5.0->openai) (3.7)\n",
            "Requirement already satisfied: exceptiongroup in /usr/local/lib/python3.10/dist-packages (from anyio<5,>=3.5.0->openai) (1.2.1)\n",
            "Requirement already satisfied: certifi in /usr/local/lib/python3.10/dist-packages (from httpx<1,>=0.23.0->openai) (2024.6.2)\n",
            "Collecting httpcore==1.* (from httpx<1,>=0.23.0->openai)\n",
            "  Downloading httpcore-1.0.5-py3-none-any.whl (77 kB)\n",
            "\u001b[2K     \u001b[90m━━━━━━━━━━━━━━━━━━━━━━━━━━━━━━━━━━━━━━━━\u001b[0m \u001b[32m77.9/77.9 kB\u001b[0m \u001b[31m12.2 MB/s\u001b[0m eta \u001b[36m0:00:00\u001b[0m\n",
            "\u001b[?25hCollecting h11<0.15,>=0.13 (from httpcore==1.*->httpx<1,>=0.23.0->openai)\n",
            "  Downloading h11-0.14.0-py3-none-any.whl (58 kB)\n",
            "\u001b[2K     \u001b[90m━━━━━━━━━━━━━━━━━━━━━━━━━━━━━━━━━━━━━━━━\u001b[0m \u001b[32m58.3/58.3 kB\u001b[0m \u001b[31m9.6 MB/s\u001b[0m eta \u001b[36m0:00:00\u001b[0m\n",
            "\u001b[?25hRequirement already satisfied: annotated-types>=0.4.0 in /usr/local/lib/python3.10/dist-packages (from pydantic<3,>=1.9.0->openai) (0.7.0)\n",
            "Requirement already satisfied: pydantic-core==2.18.4 in /usr/local/lib/python3.10/dist-packages (from pydantic<3,>=1.9.0->openai) (2.18.4)\n",
            "Installing collected packages: h11, httpcore, httpx, openai\n",
            "Successfully installed h11-0.14.0 httpcore-1.0.5 httpx-0.27.0 openai-1.31.1\n",
            "Collecting openai-whisper\n",
            "  Downloading openai-whisper-20231117.tar.gz (798 kB)\n",
            "\u001b[2K     \u001b[90m━━━━━━━━━━━━━━━━━━━━━━━━━━━━━━━━━━━━━━━━\u001b[0m \u001b[32m798.6/798.6 kB\u001b[0m \u001b[31m20.0 MB/s\u001b[0m eta \u001b[36m0:00:00\u001b[0m\n",
            "\u001b[?25h  Installing build dependencies ... \u001b[?25l\u001b[?25hdone\n",
            "  Getting requirements to build wheel ... \u001b[?25l\u001b[?25hdone\n",
            "  Preparing metadata (pyproject.toml) ... \u001b[?25l\u001b[?25hdone\n",
            "Requirement already satisfied: triton<3,>=2.0.0 in /usr/local/lib/python3.10/dist-packages (from openai-whisper) (2.3.0)\n",
            "Requirement already satisfied: numba in /usr/local/lib/python3.10/dist-packages (from openai-whisper) (0.58.1)\n",
            "Requirement already satisfied: numpy in /usr/local/lib/python3.10/dist-packages (from openai-whisper) (1.25.2)\n",
            "Requirement already satisfied: torch in /usr/local/lib/python3.10/dist-packages (from openai-whisper) (2.3.0+cu121)\n",
            "Requirement already satisfied: tqdm in /usr/local/lib/python3.10/dist-packages (from openai-whisper) (4.66.4)\n",
            "Requirement already satisfied: more-itertools in /usr/local/lib/python3.10/dist-packages (from openai-whisper) (10.1.0)\n",
            "Collecting tiktoken (from openai-whisper)\n",
            "  Downloading tiktoken-0.7.0-cp310-cp310-manylinux_2_17_x86_64.manylinux2014_x86_64.whl (1.1 MB)\n",
            "\u001b[2K     \u001b[90m━━━━━━━━━━━━━━━━━━━━━━━━━━━━━━━━━━━━━━━━\u001b[0m \u001b[32m1.1/1.1 MB\u001b[0m \u001b[31m69.3 MB/s\u001b[0m eta \u001b[36m0:00:00\u001b[0m\n",
            "\u001b[?25hRequirement already satisfied: filelock in /usr/local/lib/python3.10/dist-packages (from triton<3,>=2.0.0->openai-whisper) (3.14.0)\n",
            "Requirement already satisfied: llvmlite<0.42,>=0.41.0dev0 in /usr/local/lib/python3.10/dist-packages (from numba->openai-whisper) (0.41.1)\n",
            "Requirement already satisfied: regex>=2022.1.18 in /usr/local/lib/python3.10/dist-packages (from tiktoken->openai-whisper) (2024.5.15)\n",
            "Requirement already satisfied: requests>=2.26.0 in /usr/local/lib/python3.10/dist-packages (from tiktoken->openai-whisper) (2.31.0)\n",
            "Requirement already satisfied: typing-extensions>=4.8.0 in /usr/local/lib/python3.10/dist-packages (from torch->openai-whisper) (4.12.1)\n",
            "Requirement already satisfied: sympy in /usr/local/lib/python3.10/dist-packages (from torch->openai-whisper) (1.12.1)\n",
            "Requirement already satisfied: networkx in /usr/local/lib/python3.10/dist-packages (from torch->openai-whisper) (3.3)\n",
            "Requirement already satisfied: jinja2 in /usr/local/lib/python3.10/dist-packages (from torch->openai-whisper) (3.1.4)\n",
            "Requirement already satisfied: fsspec in /usr/local/lib/python3.10/dist-packages (from torch->openai-whisper) (2023.6.0)\n",
            "Collecting nvidia-cuda-nvrtc-cu12==12.1.105 (from torch->openai-whisper)\n",
            "  Using cached nvidia_cuda_nvrtc_cu12-12.1.105-py3-none-manylinux1_x86_64.whl (23.7 MB)\n",
            "Collecting nvidia-cuda-runtime-cu12==12.1.105 (from torch->openai-whisper)\n",
            "  Using cached nvidia_cuda_runtime_cu12-12.1.105-py3-none-manylinux1_x86_64.whl (823 kB)\n",
            "Collecting nvidia-cuda-cupti-cu12==12.1.105 (from torch->openai-whisper)\n",
            "  Using cached nvidia_cuda_cupti_cu12-12.1.105-py3-none-manylinux1_x86_64.whl (14.1 MB)\n",
            "Collecting nvidia-cudnn-cu12==8.9.2.26 (from torch->openai-whisper)\n",
            "  Using cached nvidia_cudnn_cu12-8.9.2.26-py3-none-manylinux1_x86_64.whl (731.7 MB)\n",
            "Collecting nvidia-cublas-cu12==12.1.3.1 (from torch->openai-whisper)\n",
            "  Using cached nvidia_cublas_cu12-12.1.3.1-py3-none-manylinux1_x86_64.whl (410.6 MB)\n",
            "Collecting nvidia-cufft-cu12==11.0.2.54 (from torch->openai-whisper)\n",
            "  Using cached nvidia_cufft_cu12-11.0.2.54-py3-none-manylinux1_x86_64.whl (121.6 MB)\n",
            "Collecting nvidia-curand-cu12==10.3.2.106 (from torch->openai-whisper)\n",
            "  Using cached nvidia_curand_cu12-10.3.2.106-py3-none-manylinux1_x86_64.whl (56.5 MB)\n",
            "Collecting nvidia-cusolver-cu12==11.4.5.107 (from torch->openai-whisper)\n",
            "  Using cached nvidia_cusolver_cu12-11.4.5.107-py3-none-manylinux1_x86_64.whl (124.2 MB)\n",
            "Collecting nvidia-cusparse-cu12==12.1.0.106 (from torch->openai-whisper)\n",
            "  Using cached nvidia_cusparse_cu12-12.1.0.106-py3-none-manylinux1_x86_64.whl (196.0 MB)\n",
            "Collecting nvidia-nccl-cu12==2.20.5 (from torch->openai-whisper)\n",
            "  Using cached nvidia_nccl_cu12-2.20.5-py3-none-manylinux2014_x86_64.whl (176.2 MB)\n",
            "Collecting nvidia-nvtx-cu12==12.1.105 (from torch->openai-whisper)\n",
            "  Using cached nvidia_nvtx_cu12-12.1.105-py3-none-manylinux1_x86_64.whl (99 kB)\n",
            "Collecting nvidia-nvjitlink-cu12 (from nvidia-cusolver-cu12==11.4.5.107->torch->openai-whisper)\n",
            "  Downloading nvidia_nvjitlink_cu12-12.5.40-py3-none-manylinux2014_x86_64.whl (21.3 MB)\n",
            "\u001b[2K     \u001b[90m━━━━━━━━━━━━━━━━━━━━━━━━━━━━━━━━━━━━━━━━\u001b[0m \u001b[32m21.3/21.3 MB\u001b[0m \u001b[31m75.9 MB/s\u001b[0m eta \u001b[36m0:00:00\u001b[0m\n",
            "\u001b[?25hRequirement already satisfied: charset-normalizer<4,>=2 in /usr/local/lib/python3.10/dist-packages (from requests>=2.26.0->tiktoken->openai-whisper) (3.3.2)\n",
            "Requirement already satisfied: idna<4,>=2.5 in /usr/local/lib/python3.10/dist-packages (from requests>=2.26.0->tiktoken->openai-whisper) (3.7)\n",
            "Requirement already satisfied: urllib3<3,>=1.21.1 in /usr/local/lib/python3.10/dist-packages (from requests>=2.26.0->tiktoken->openai-whisper) (2.0.7)\n",
            "Requirement already satisfied: certifi>=2017.4.17 in /usr/local/lib/python3.10/dist-packages (from requests>=2.26.0->tiktoken->openai-whisper) (2024.6.2)\n",
            "Requirement already satisfied: MarkupSafe>=2.0 in /usr/local/lib/python3.10/dist-packages (from jinja2->torch->openai-whisper) (2.1.5)\n",
            "Requirement already satisfied: mpmath<1.4.0,>=1.1.0 in /usr/local/lib/python3.10/dist-packages (from sympy->torch->openai-whisper) (1.3.0)\n",
            "Building wheels for collected packages: openai-whisper\n",
            "  Building wheel for openai-whisper (pyproject.toml) ... \u001b[?25l\u001b[?25hdone\n",
            "  Created wheel for openai-whisper: filename=openai_whisper-20231117-py3-none-any.whl size=801358 sha256=5e40b8cf32319bc0bbdbc696bde6b9da1aa39a31b8656a9be95bcaed0569ff31\n",
            "  Stored in directory: /root/.cache/pip/wheels/d0/85/e1/9361b4cbea7dd4b7f6702fa4c3afc94877952eeb2b62f45f56\n",
            "Successfully built openai-whisper\n",
            "Installing collected packages: nvidia-nvtx-cu12, nvidia-nvjitlink-cu12, nvidia-nccl-cu12, nvidia-curand-cu12, nvidia-cufft-cu12, nvidia-cuda-runtime-cu12, nvidia-cuda-nvrtc-cu12, nvidia-cuda-cupti-cu12, nvidia-cublas-cu12, tiktoken, nvidia-cusparse-cu12, nvidia-cudnn-cu12, nvidia-cusolver-cu12, openai-whisper\n",
            "Successfully installed nvidia-cublas-cu12-12.1.3.1 nvidia-cuda-cupti-cu12-12.1.105 nvidia-cuda-nvrtc-cu12-12.1.105 nvidia-cuda-runtime-cu12-12.1.105 nvidia-cudnn-cu12-8.9.2.26 nvidia-cufft-cu12-11.0.2.54 nvidia-curand-cu12-10.3.2.106 nvidia-cusolver-cu12-11.4.5.107 nvidia-cusparse-cu12-12.1.0.106 nvidia-nccl-cu12-2.20.5 nvidia-nvjitlink-cu12-12.5.40 nvidia-nvtx-cu12-12.1.105 openai-whisper-20231117 tiktoken-0.7.0\n"
          ]
        }
      ]
    },
    {
      "cell_type": "code",
      "source": [
        "import whisper\n",
        "\n",
        "model = whisper.load_model(\"large-v2\")\n",
        "result = model.transcribe(\"/content/test1.wav\")\n",
        "print(result[\"text\"])"
      ],
      "metadata": {
        "id": "JpPAkIVDxKrH",
        "colab": {
          "base_uri": "https://localhost:8080/"
        },
        "outputId": "8e15a39e-f5c5-4048-a99d-f1884172d8a1"
      },
      "execution_count": null,
      "outputs": [
        {
          "output_type": "stream",
          "name": "stderr",
          "text": [
            "100%|█████████████████████████████████████| 2.87G/2.87G [05:22<00:00, 9.56MiB/s]\n"
          ]
        },
        {
          "output_type": "stream",
          "name": "stdout",
          "text": [
            " guten tart Rye Flour Electrician's Brandeis Islands Shells Almond Greetings and welcome to the Microsoft Fiscal Year 2023 First Class of 2020. Welcome to the Microsoft Fiscal Year 2023 First Class of 2020. Welcome to the Microsoft Fiscal Year 2023 First Class of 2020. And thank you for joining us today. On the call with me are Satya Nadella, Chairman and Chief Executive Officer, Amy Hood, Chief Financial Officer, Alice Jollett, Chief Accounting Officer, and Keith Doliver, Deputy General Counsel. On the Microsoft Investor Relations website, you can find our earnings press release and financial summary slide deck, which is intended to supplement our prepared remarks during today's call and provides the reconciliation of differences between GAAP and non-GAAP financial measures. On this call, we will discuss certain non-GAAP items. The non-GAAP financial measures provided should not be considered as a substitute for or superior to the measures of financial performance prepared in accordance with GAAP. They're included as additional clarifying items to aid investors in further understanding the company's first quarter performance, in addition to the impact these items and events have on the financial results. All growth comparisons we make on the call today relate to the corresponding period of last year, unless otherwise noted. We will also provide growth rates and constant currency when available as a framework for assessing how our underlying business has performed, excluding the effect of foreign currency rate fluctuations. Where growth rates are the same in constant currency, we will refer to the growth rate only. We will post our prepared remarks to our website immediately following the call until the complete transcript is available. Today's call is being webcast live and recorded. If you ask a question, it will be included in our live transmission, in the transcript, and in any future use of the recording. You can replay the call and view the transcript on the Microsoft Invest Relations website. During this call, we will be making forward-looking statements, which are predictions, projections, or other statements about future events. These statements are based on current expectations and assumptions that are subject to risks and uncertainties. Actual results could materially differ because of factors discussed in today's earnings press release, in the comments made during this conference call, and in the risk factor section of our Form 10-K, Forms 10-Q, and other reports and filings with the Securities and Exchange Commission. We do not undertake any duty to update any forward-looking statement. And with that, I'll turn the call over to Satya. Thank you, Brett. To start, I want to outline the principles that are guiding us through these changing economic times. First, we will invest behind categories that will drive the long-term secular trend, where digital technology as a percentage of the world's GDP will continue to increase. Second, we will prioritize helping our customers get the most value out of their digital spend so that they can do more with less. And finally, we will be disciplined in managing our cost structure. With that context, this quarter, the Microsoft Cloud again exceeded $25 billion in quarterly revenue, up 24% and 31% in constant currency. And based on current trends continuing, we expect our broader commercial business to grow at around 20% in constant currency this fiscal year, as we manage through the cyclical trends affecting our consumer business. With that, let me highlight our progress, starting with Azure. Moving to the cloud is the best way for organizations to do more with less today. It helps them align their spend with demand and mitigate risk around increasing energy costs and supply chain constraints. We're also seeing more customers turn to us to build and innovate with infrastructure they already have. With Azure Arc, organizations like Wells Fargo can run Azure services, including containerized applications across on-premises, edge, and multi-cloud environments. We now have more than 8,500 our customers, more than double the number a year ago. We are the platform of choice for customers' SAP workloads in the cloud. Companies like Chobani, Munich Rees, Sodexo, Volvo Cars all run SAP on Azure. We are the only cloud provider with direct and secure access to Oracle databases running in Oracle Cloud Infrastructure, making it possible for companies like FedEx, GE, and Marriott to use capabilities from both companies. And with Azure Confidential Computing, we are enabling companies in highly regulated industries, including RBC, to bring their most sensitive applications to the cloud. Just last week, UBS said it will move more than 50% of its applications to Azure. Now to data and AI. With our Microsoft Intelligent Data Platform, we provide a complete data fabric, helping customers cut integration tax associated with bringing together siloed solutions. Customers like Mercedes-Benz are standardizing on our data stack to process and govern massive amounts of data. Cosmos DB is the go-to database, powering the world's most demanding workloads at limitless scale. Cosmos DB now supports PostgreSQL, making Azure the first cloud provider to offer a database service that supports both relational and NoSQL workloads. And in AI, we are turning the world's most advanced models into platforms for customers. Earlier this month, we brought the Power or Dolly to Azure OpenAI service, helping customers like Mattel apply the breakthrough image generation model to commercial use cases for the first time. And Azure Machine Learning provides industry-leading ML apps, helping organizations like 3M deploy, manage, and govern models. All up, Azure ML revenue has increased more than 100% for four quarters in a row. Now on to developers. We have the most complete platform for developers to build cloud-native applications. Four years since our acquisition, GitHub is now at $1 billion in annual recurring revenue. And GitHub's developer-first ethos has never been stronger. More than 90 million people now use the service to build software for any cloud on any platform up three times. GitHub Advanced Security is helping organizations improve their security posture by bringing features directly into the developer's workflow. Toyota North America chose the offering this quarter to help its developers build and secure many of its most critical applications. Now on to Power Platform. We are helping customers save time and money with our end-to-end suite spanning low-code, no-code tools, robotic process automation, virtual agents, and business intelligence. Power BI is the market leader in business intelligence in the cloud and is growing faster than competition as companies like Walmart standardize on the tool for reporting and analytics. Power Apps is the market leader in low-code, no-code tools and has nearly 15 million monthly active users, up more than 50% compared to a year ago. Power Automate has more than 7 million monthly active users and is being used by companies like Brown Foreman, Komatsu, Mars, T-Mobile to digitize manual business processes and save thousands of hours of employee time. And we're going further with new AI-powered capabilities in Power Automate that turn natural language into advanced workflows. Now on to Dynamics 365. From customer experience and service to finance and supply chain, we continue to take share across all categories we serve. For example, Lufthansa Cargo chose us to centralize customer information and related shipments. CBRE is optimizing its field service operations, gaining cost efficiencies. Darden is using our solutions to increase both guest frequency and spend at its restaurants. And Tillamook is scaling its growth and improving supply chain visibility. All up, more than 400,000 organizations now use our business applications. Now on to industry solutions. We are seeing increased adoption of our industry and cross-industry clouds. Bank of Queensland chose our Cloud for Financial Services to deliver new digital experiences for its customers. Our Cloud for Sustainability is off to a fast start as organizations like Telstra use the solution to track their environmental footprint. New updates provide insights on how to measure scope-three carbon emissions. And we are seeing record growth in healthcare driven in part by our nuanced DAX ambient intelligence solutions, which automatically documents patient encounters at the point of care. Physicians tell us DAX dramatically improves their productivity and it's quickly becoming an on-ramp to our broader healthcare offerings. Now on to new systems of work. Microsoft 365, Teams, and Viva uniquely enable employees to thrive in today's digitally connected, distributed world of work. Microsoft 365 is the Cloud for Last platform that supports all the ways people work and every type of worker, reducing cost and complexity for IT. The new Microsoft 365 app brings together our productivity apps with third-party content as well as personalized recommendations. Microsoft Teams is the de facto standard for collaboration and has become essential to how hundreds of millions of people meet, call, chat, collaborate, and do business. As we emerge from the pandemic, we are retaining users we've gained and are seeing increased engagement too. Users interact with Teams 1,500 times per month on average. In a typical day, the average commercial user spends more time in Teams chat than they do in email. And the number of users who use four or more features within Teams increased over 20% year over year. Teams is becoming a ubiquitous platform for business process. Monthly active enterprise users running third-party and custom applications within Teams increased nearly 60% year over year. And over 55% of our enterprise customers who use Teams today also buy Teams Rooms or Teams Phone. Teams Phone provides the best-in-class calling. PSTN users have grown by double digits for five quarters in a row. We are bringing Teams Rooms to a growing hardware ecosystem, including Cisco's devices and peripherals, which will now run Teams natively. And we are creating a new category with Microsoft Places to help organizations evolve and manage their space for hybrid and in-person work. Just like Outlook Calendar orchestrates when people can meet and collaborate, Places will do the same for where. We also announced Teams Premium, addressing enterprise demands for advanced meeting features like additional security options and intelligent meeting recaps. All this innovation is driving growth across Microsoft 365. Leaders in every industry from Fannie Mae and Land O'Lakes to RoboBank continue to turn to our Premium E5 offerings for advanced security, compliance, voice, and analytics. We've also built a completely new suite for our employee experience platform, Microsoft Viva, which now has more than 20 million monthly active users at companies like Finstra, SES, and Unilever. And we're extending Viva to meet role-specific needs. Viva Sales is helping salespeople at companies like Adobe, Crayon, and PwC reclaim their time by bringing customer interactions across Teams and Outlook directly into their CRM system. Now on to Windows. Despite the drop in PC shipments during the quarter, Windows continues to see usage growth. All up, there are nearly 20% more monthly active Windows devices than pre-pandemic. And on average, Windows 10 and Windows 11 users are spending 8.5% more time on their PCs than they were two and a half years ago. And we are seeing larger commercial deployments of Windows 11. Accenture, for example, has deployed Windows 11 to more than 450,000 employees' PCs, up from just 25,000 seven months ago. And L'Oreal has deployed the operating system to 85,000 employees. Now to security. Security continues to be a top priority for every organization. We're the only company with integrated end-to-end tools spanning security, compliance, identity, and device management and privacy across all clouds and platforms. More than 860,000 organizations across every industry, from BP and Fujifilm to ING Bank, iHeartMedia, and Lumen Technologies, now use our security solutions up 33% year-over-year. They can save up to 60% when they consolidate our security stack, and the number of customers with more than four workloads have increased 50% year-over-year. More organizations are choosing both our XDR and cloud-native SIEM to secure their entire digital estate. The number of E5 customers who also purchase Sentinel increased 44% year-over-year. And as threats become more sophisticated, we are innovating to protect customers. New capabilities in Defender help secure the entire DevOps lifecycle and manage security posture across clouds. And Entra now provides comprehensive identity governance for both on-premise and cloud-based user directories. Now on to LinkedIn. We once again saw record engagement among our more than 875 million members, with international growth increasing at nearly 2x the pace as in the United States. There are now more than 150 million subscriptions to newsletters on LinkedIn, up 4x year-over-year. New integrations between Viva and LinkedIn Learning help companies invest in their existing employees by providing access to courses directly in the floor of work. Members added 365 million skills to their profiles over the last 12 months, up 43% year-over-year. And with our acquisition of Edubrite, they will also soon be able to earn professional certificates from trusted partners directly on the platform. We launched the Next Generation Sales Navigator this quarter, helping sellers increase win rates and deal sizes by better understanding and evaluating customer interest. Finally, LinkedIn Marketing Solution continues to provide leading innovation and ROI in B2B digital advertising. More broadly with Microsoft Advertising, we offer a trusted platform for any marketeer or advertiser looking to innovate. We've expanded our geographies we serve by nearly 4x over the past year. We are seeing record daily usage of Edge, Start, and Bing driven by Windows. Edge is the fastest growing browser on Windows and continues to gain share as people use built-in coupon and price comparison features to save money. We surfaced more than $2 billion in savings to date, and this quarter we brought our shopping tools to 15 new markets. Users of our Start personalized content feed are consuming 2x more content compared to a year ago, and we're also expanding our third-party ad inventory. Netflix will launch its first ad-supported subscription plan next month, exclusively powered by our technology and sales. And with PromoteIQ, we offer an omnichannel media platform for retailers like The Auto Group looking to generate additional revenue while maintaining ownership of their own data and customer relationships. Now on to gaming. We are adding new gamers to our ecosystem as we execute on our ambition to reach players wherever and whenever they want on any device. We saw usage growth across all platforms driven by the strength of console. PC game pass subscriptions increased 159% year-over-year, and with cloud gaming, we're transforming how games are distributed, played, and viewed. More than 20 million people have used the service to stream games to date, and we are adding support for new devices like handhelds from Logitech and Razer as well as MetaQuest. And as we look towards the holidays, we offer the best value in gaming with Game Pass and Xbox Series S. Nearly half of the Series S buyers are new to our ecosystem. In closing, in a world facing increasing headwinds, digital technology is the ultimate tailwind, and we're innovating across the entire tech stack to help every organization while also focusing intensely on our operational excellence and execution discipline. With that, I'll hand it over to Amy. Thank you, Satya, and good afternoon, everyone. Our first quarter revenue was $50.1 billion, up 11% and 16% in constant currency. Earnings per share was $2.35 and increased 4% and 11% in constant currency when adjusted for the net tax benefit for the first quarter of fiscal year 22. Driven by strong execution in a dynamic environment, we delivered a solid start to our fiscal year in line with our expectations, even as we saw many of the macro trends from the end of the fourth quarter continue to weaken through Q1. In our consumer business, PC market demand further deteriorated in September, which impacted our Windows OEM and Surface businesses. And reductions in customer advertising spend, which also weakened later in the quarter, impacted search and news advertising and LinkedIn marketing solutions. As you heard from Satya, in our commercial business, we saw strong overall demand for our Microsoft Cloud offerings with growth of 31% in constant currency, as well as share gains across many businesses. Commercial bookings declined 3% and increased 16% in constant currency on a flat expiry base. Excluding the FX impact, growth was driven by strong renewal execution, and we continued to see growth in the number of large long-term Azure and Microsoft 365 contracts across all deal sizes. More than half of the $10 million plus Microsoft 365 bookings came from E5. Commercial remaining performance obligation increased 31% and 34% in constant currency to $180 billion. Roughly 45% will be recognized in revenue in the next 12 months, up 23% year over year. The remaining portion, which we recognize beyond the next 12 months, increased 38% year over year. And our annuity mix increased one point year over year to 96%. FX impacted company results in line with expectations. With the stronger US dollar, FX decreased total company revenue by five points. And at the segment level, FX decreased productivity in business processes and intelligent cloud revenue growth by six points and more personal computing revenue growth by three points. Additionally, FX decreased COGS and operating expense growth by three points. Microsoft Cloud gross margin percentage increased roughly two points year over year to 73%. Excluding the impact of the change in accounting estimate for useful lives, Microsoft Cloud gross margin percentage decreased roughly one point, driven by sales mix shift to Azure and lower Azure margin, primarily due to higher energy cost. Company gross margin dollars increased 9% and 16% in constant currency, and gross margin percentage decreased slightly year over year to 69%. Excluding the impact of the latest change in accounting estimate, gross margin percentage decreased roughly three points, driven by sales mix shift to cloud, the lower Azure margin noted earlier, and nuance. Operating expense increased 15% and 18% in constant currency, driven by investments in cloud engineering, LinkedIn, nuance, and commercial sales. At a total company level, headcount grew 22% year over year, as we continue to invest in key areas just mentioned, as well as customer deployment. Headcount growth included roughly six points from the nuance and Xandr acquisitions, which closed last Q3 and Q4, respectively. Operating income increased 6% and 15% in constant currency, and operating margins decreased roughly two points year over year to 43%. Excluding the impact of the change in accounting estimate, operating margins declined roughly four points year over year, driven by sales mix shift to cloud, unfavorable FX impact, nuance, and the lower Azure margin noted earlier. Now to our segment results. Revenue from productivity and business processes was $16.5 billion and grew 9% and 15% in constant currency, ahead of expectations, with better than expected results in Office Commercial and LinkedIn. Office Commercial revenue grew 7% and 13% in constant currency. Office 365 commercial revenue increased 11% and 17% in constant currency, slightly better than expected, with the strong renewal execution noted earlier. Growth was driven by installed base expansion across all workloads and customer segments, as well as higher ARPU from E5. Demand for security, compliance, and voice value in Microsoft 365 drove strong E5 momentum again this quarter. Paid Office 365 commercial seats grew 14% year over year, driven by our small and medium business and frontline worker offerings, although we saw a continued impact of new deal moderation outside of E5. Office consumer revenue grew 7% and 11% in constant currency, driven by continued momentum in Microsoft 365 subscriptions, which grew 13% to $61.3 million. Dynamics revenue grew 15% and 22% in constant currency, driven by Dynamics 365, which grew 24% and 32% in constant currency. LinkedIn revenue increased 17% and 21% in constant currency, ahead of expectations, driven by better than expected growth in talent solutions, partially offset by weakness in marketing solutions from the advertising trends noted earlier. Segment growth margin dollars increased 11% and 18% in constant currency, and gross margin percentage increased roughly one point year over year. Excluding the impact of the latest change in accounting estimate, gross margin percentage decreased slightly, driven by sales mixed shift to cloud offerings. Operating expense increased 13% and 16% in constant currency, and operating income increased 10% and 19% in constant currency, including four points due to the latest change in accounting estimate. Next, the intelligent cloud segment. Revenue was $20.3 billion, increasing 20% and 26% in constant currency, in line with expectations. Overall, server products and cloud services revenue increased 22% and 28% in constant currency. Azure and other cloud services revenue grew 35% and 42% in constant currency, about a point lower than expected, driven by the continued moderation in Azure consumption growth, as we help customers optimize current workloads, while they prioritize new workloads. In our per user business, the enterprise mobility and security install base grew 18% to over 232 million seats, with continued impact from the new deal moderation noted earlier. In our on-premises server business, revenue was flat and increased 4% in constant currency, slightly ahead of expectations, driven by hybrid demand, including better than expected annuity purchasing, ahead of the SQL Server 2022 launch. Enterprise services revenue grew 5% and 10% in constant currency, driven by enterprise support services. Segment gross margin dollars increased 20% and 26% in constant currency, and gross margin percentage decreased slightly. Excluding the impact of the latest change in accounting estimate, gross margin percentage declined roughly three points, driven by sales mixed shift to Azure, and higher energy cost impacting Azure margins. Operating expenses increased 25% and 28% in constant currency, including roughly eight points of impact from nuance. And operating income grew 17% and 25% in constant currency, with roughly nine points of favorable impact from the latest change in accounting estimate. Now to more personal computing. Revenue decreased slightly year over year to $13.3 billion, and grew 3% in constant currency, in line with expectations overall, but with OEM and surface weakness offset by upside in gaming consoles. Windows OEM revenue decreased 15% year over year, excluding the impact from the Windows 11 deferral last year. Revenue declined 20%, driven by PC market demand deterioration noted earlier. Devices revenue grew 2% and 8% in constant currency, in line with expectations, driven by the impact of a large HoloLens deal, partially offset by low double digit declines in consumer surface sales. Windows commercial products and cloud services revenue grew 8% and 15% in constant currency, in line with expectations driven by demand from Microsoft 365 E5 noted earlier. Search and news advertising revenue, XTAC, increased 16% and 21% in constant currency, in line with expectations, benefiting from an increase in search volumes and roughly five points of impact from Xander, even as we saw increased ad market headwinds during September. Edge browser gained share again this quarter. And in gaming, revenue grew slightly and was up 4% in constant currency ahead of expectations, driven by better than expected console sales. Xbox hardware revenue grew 13% and 19% in constant currency. Xbox content and services revenue declined 3% and increased 1% in constant currency, driven by declines in first party content, as well as in third party content, where we had lower engagement hours and higher monetization, partially offset by growth in Xbox Game Pass subscriptions. Segment gross margin dollars declined 9% and 4% in constant currency, and gross margin percentage decreased roughly five points year over year, driven by sales makeshift to lower margin businesses. Operating expenses increased 2% and 5% in constant currency, driven by the Xander acquisition. And operating income decreased 15% and 9% in constant currency. Now back to total company results. Capital expenditures, including finance leases, were $6.6 billion, and cash paid for PP&E was $6.3 billion. Our data center investments continue to be based on strong customer demand and usage signals. Cashflow from operations was $23.2 billion, down 5% year over year, driven by strong cloud billings and collections, which were more than offset by a tax payment related to the transfer of intangible property completed in Q1 of FY22. Free cashflow was $16.9 billion, down 10% year over year. Excluding the impact of this tax payment, cashflow from operations grew 2%, and free cashflow was relatively unchanged year over year. This quarter, other income and expense was $54 million, driven by interest income, which was mostly offset by interest expense and net losses on foreign currency remeasurement. Our effective tax rate was approximately 19%. And finally, we returned $9.7 billion to shareholders through share repurchases and dividends. Now, moving to our Q2 outlook, which, unless specifically noted otherwise, is on a U.S. dollar basis. My commentary for both the full year and next quarter does not include any impact from Activision, which we still expect to close by the end of the fiscal year. First, FX. With a stronger U.S. dollar and based on current rates, we now expect FX to decrease total revenue growth by approximately five points, and to decrease total COGS and operating expense growth by approximately three points. Within the segments, we anticipate roughly seven points of negative FX impact on revenue growth in productivity and business processes, six points in intelligent cloud, and three points in more personal computing. Our outlook has many of the trends we saw at the end of Q1 continue into Q2. In our consumer business, materially weaker PC demand from September will continue and impact both Windows OEM and Surface device results, even as the Windows install base and usage grows, as you heard from Satya. Additionally, customers focusing their advertising spend will impact LinkedIn and search and news advertising revenue. In our commercial business, demand for our differentiated hybrid and cloud offerings, together with consistent execution, should drive healthy growth across the Microsoft Cloud. In commercial bookings, continue strong execution across core annuity sales motions and commitments to our platform should drive solid growth on a moderately growing expiry base against a strong prior year comparable, which included a significant volume of large long-term Azure contracts. As a reminder, the growing mix of larger long-term Azure contracts, which are more unpredictable in their timing, always drives increased quarterly volatility in our bookings growth rate. Microsoft Cloud gross margin percentage should be up roughly one point year over year, driven by the latest accounting estimate change noted earlier. Excluding that impact, Q2 gross margin percentage will decrease roughly two points driven by lower Azure margin, primarily due to higher energy cost, revenue mix shift to Azure, and the impact from nuance. In capital expenditures, we expect a sequential increase on a dollar basis with normal quarterly spend variability in the timing of our cloud infrastructure build-out. Next, to segment guidance. In productivity and business processes, we expect revenue to grow between 11 and 13% in constant currency, or 16.6 to 16.9 billion US dollars. In office commercial, revenue growth will again be driven by Office 365, with seat growth across customer segments and our growth through E5. We expect Office 365 revenue growth to be similar to last quarter on a constant currency basis. In our on-premises business, we expect revenue to decline in the low to mid 30s. In office consumer, we expect revenue to decline low to mid single digits, as Microsoft 365 subscription growth will be more than offset by unfavorable FX impact. For LinkedIn, we expect continued strong engagement on the platform, although results will be impacted by a slowdown in advertising spend and hiring, resulting in mid to high single digit revenue growth or low to mid-teens growth in constant currency. And in dynamics, we expect revenue growth in the low double digits or the low 20s in constant currency, driven by continued share gains in Dynamics 365. For Intelligent Cloud, we expect revenue to grow between 22 and 24% in constant currency, or 21.25 to 21.55 billion US dollars. Revenue will continue to be driven by Azure, which as a reminder, can have quarterly variability primarily from our per user business and from in-period recognition, depending on the mix of contracts. We expect Azure revenue growth to be sequentially lower by roughly five points on a constant currency basis. Azure revenue will continue to be driven by strong growth and consumption with some impact from the Q1 trends noted earlier. And our per user business should continue to benefit from Microsoft 365 Suite momentum, though we expect moderation in growth rate given the size of the installed base. In our on-premises server business, we expect revenue to decline low single digits as demand for our hybrid solutions, including strong annuity purchasing from the SQL Server 2022 launch, will be more than offset by unfavorable FX impact. And in enterprise services, we expect revenue growth to be in the low single digits driven by enterprise support. In more personal computing, we expect revenue of 14.5 to 14.9 billion US dollars. In Windows OEM, we expect revenue to decline in the high 30s, excluding the impact from the Windows 11 revenue deferral last year, revenue would decline mid 30s, reflecting both PC market demand and a strong prior year comparable, particularly in the commercial segment. In devices, revenue should decline approximately 30%, again, roughly in line with the PC market. In Windows commercial products and cloud services, customer demand for Microsoft 365 and our advanced security solutions should drive growth in the mid single digits or low double digits in constant currency. Search and news advertising, X-TAC, should grow in the low to mid teens, roughly six points faster than overall search and news advertising revenue, driven by growing first party revenue and the inclusion of Xandr. And in gaming, we expect revenue to decline in the low to mid teens against a strong prior year comparable. That included several first party title launches, partially offset by growth in Xbox Game Pass subscribers. We expect Xbox content and services revenue to decline in the low to mid teens. Now, back to company guidance. We expect COGS to grow between six and 7% in constant currency, or to be between 17.4 and 17.6 billion US dollars. And operating expense to grow between 17 and 18% in constant currency, or to be between 14.3 and 14.4 billion US dollars. As we continue to focus our investment in key growth areas, total headcount growth sequentially should be minimal. Other income and expense should be roughly $100 million as interest income is expected to more than offset interest expense. Further effects and equity movements through Q2 are not reflected in this number. And as a reminder, we are required to recognize market to market gains or losses on our equity portfolio, which can increase quarterly volatility. And we expect our Q2 effective tax rate to be between 19 and 20%. And finally, as a reminder for Q2 cashflow, we expect to make a $2.4 billion cash tax payment related to the capitalization of R&D provision enacted in 2017 TCJA and effective as of July 1st, 2022. Now some thoughts on the full fiscal year. First, FX. Based on current rates, we now expect a roughly five point headwind to full year revenue growth. And FX should decrease COGS and operating expense growth by approximately three points. At the total company level, we continue to expect double digit revenue and operating income growth on a constant currency basis. Revenue will be driven by around 20% constant currency growth in our commercial business, driven by strong demand for our Microsoft Cloud offerings. That growth will be partially offset by the increased declines we now see in the PC market. With the high margins in our Windows OEM business and the cyclical nature of the PC market, we take a long-term approach to investing in our core strategic growth areas and maintain these investment levels regardless of PC market conditions. Therefore, with our first quarter results and lower expected OEM revenue for the remainder of the year as well as over $800 million of greater than expected energy costs, we now expect operating margins in US dollars to be down roughly a point year over year. On a constant currency basis, excluding the incremental impact of the lower Windows OEM revenue and the favorable impact from the latest accounting change, we continue to expect FY23 operating margins to be roughly flat year over year. In closing, in this environment, it is more critical than ever to continue to invest in our strategic growth markets such as cloud, security, Teams, Dynamics 365, and LinkedIn, where we have opportunities to continue to gain share as we provide problem-solving innovations to our customers. And while we continue to help our customers do more with less, we will do the same internally. And you should expect to see our operating expense growth moderate materially through the year while we focus on growing productivity of the significant headcount investments we've made over the last year. With that, let's go to Q&A. Brett. Thanks, Amy. We'll now move over to Q&A. Out of respect for others on the call, we request that participants please ask only one question. Jessie, can you please repeat your instructions? Absolutely. If you would like to ask a question, please press star one on your telephone keypad at this time. The confirmation tone will indicate that your line is in the question queue. You may press star two if you would like to remove your question from the queue. For participants using speaker equipment, it may be necessary to pick up your handset before pressing the star keys. Our first question is coming from the line of Keith Weiss with Morgan Stanley. Please proceed with your question. Excellent. Thank you guys for taking the question in. Impressive results in what's obviously a very difficult environment. A question for Amy, and it pains me to ask a question about a percentage point, but I think this is what's on a lot of investors' minds is this is two quarters in a row now where Azure constant currency growth came in a little bit below your guidance. I think what investors are worrying about or sort of wondering about is, is there an inherent volatility in that business that's just harder to forecast? And on a go forward basis, how should we think about that forecast? Have you applied more conservatism in it? And how should we think about Azure growth like the glide path for the whole year? If you could address those, I think it would put a lot of investor minds at ease. Thanks, Keith. I do appreciate you asking about that one point because I do know it is a point of focus every quarter. And what I would say is there is some inherent volatility to that number. A point here or there, and you've heard me say it when we've been a point better, and you've heard me say it when we've been a point worse. And I wanna focus mostly on what and how we see the number, which is that it is still a very large growth rate with growth across all segments and with growth across all geos. That was to the question, generally in line with where we expected. And what we did see through the quarter is a real focus both by customers, but also by our sales and customer success teams on going proactively to customers and making sure we are helping them optimize their workloads. And as we went through the quarter, and as of course, macroeconomic environment got more complicated, we continued to focus on that because ultimately those optimizations bring value even as budgets are still growing and budgeted spend is still growing. So it's this nuance of you're still seeing digitization. This is still the tailwind that helps customers solve problems. This is still the way to build growth and leverage in your business. And yet you still wanna optimize your workloads. You still wanna run them the most efficiently so that you can then make room for new workload growth. We saw that across all segments. If there was one segment where I may have seen it a bit more, I would say in the small or mid-sized segment of the market that tends to be more through partner. We rely on partners to help customers do those same optimizations and prepare workloads. But it is that one point I know that people are focused on, but if you step back and say that this is how you drive ultimate share gains and build customer loyalty and help customers grow, I think that needs to be the focus of our teams inside the company and also the partners that we rely on to help customers do that as well. And so as I look forward, there is some inherent volatility to this number. And here, I think you will hear us talk about continuing to invest to make that happen, whether it's in customer success, whether it's in optimizations, whether it's frankly in engineering to help people be able to even have better solutions to optimize against. I do think that will remain top of mind for us, even as this remains probably the most exciting opportunity in TAM across infra, data, and AI that exist in technology. I don't know, Sath, if you- Yeah, I mean, I think that that's the only thing I would add, Amy, to your point obviously our investment profile here is that this is the largest stamp where we on a large number have good growth rates with the kind of volatility you're seeing. So we're gonna stay focused on it. And in this particular period, I think we are gonna optimize for long-term customer loyalty by proactively help them optimize their spend, which I think is the right thing for us to be doing as a company for on behalf of our shareholders long-term. Outstanding. Thank you, guys. Thanks, Keith. Jesse, next question, please. Our next question comes from Mark Mortler with Bernstein Research. Please proceed with your question. Thank you. I'd like to follow up on the last question on Azure specifically. So next quarter, you're guiding to sequential further slowing in the business. Is that the factor of optimization? Is it something else that's going on in here? How should we think about that specific component of the guidance, given the fact that you've got good bookings, strong RPO growth, et cetera? Thanks, Mark. You're right. And let me go ahead and reiterate part of that, which is that this quarter, as you saw, we did have very good bookings growth. And within the RPO number that you're referring to, we had what we would call long-dated growth, which means we're having and seeing customers continue to sign commitments to the platform. And that goes really to what Satya mentioned, is that the plans to invest here remain intact. And so it's about both the optimization that you're talking about, and we are seeing, and the guide includes that, and it also includes new workload starting. And those also may not be matched up one-to-one to see sort of a consistent pattern. And that does result in some volatility. The other piece of it, Mark, that we didn't talk on before, because I was really focused on consumption, is that there is per-user headwinds as well, right? Because we're getting and seeing some of these laws of large numbers in terms of the per seat business. So there's a couple of things going on here, Mark, against, as you said, the IPO, a very large base. So it's not just the optimization to new workloads. It's also some per-user work as well. Okay, thank you, appreciate. Thanks, Mark. Jesse, next question, please. The next question is from Brent Hill with Jefferies. Please proceed with your question. Amy, last quarter, you called out for the first time SMB weakness. It sounds like that continued. I think many are saying that it's not a concern and it's a concern, but it sounds like that continued. I think many are questioning if, did that get worse this quarter? And did you see it filter now into the enterprise? Can you talk about what you're seeing higher up above SMB? Thanks, Brent. Maybe this is a chance to talk a little bit about Microsoft 365. I think that's a place where we can talk specifically about the SMB market, continued impact there in Q1, although it was not different than what we saw, frankly, in Q4. In Microsoft 365, what you saw was very good renewal execution. And it speaks to, I think, the value people are seeing in Microsoft 365. We had on-time renewals that were, frankly, better in Q1 based on explorations than we'd seen a year ago. So deals are both getting done, and I think getting done on time. They're getting done within a discount range that we feel good about, that's consistent. And we saw a good upsell to E5. So if you think about that as sort of forming the basis of what are we seeing above SMB, that's a good summary. Where we, in fact, saw, I think we talked about it, new deal moderation, I'd refer to that, frankly, in Q4 as well. It tended to be, and to your point, the smaller end of the market, small to mid-sized companies. And it also tended to be through partner, which we had talked about before, Brent, a little bit, and I'd refer to. And it tended to be around selling what is, in fact, some new value that we've put into E3. So this is a place where there is some macro impact, but there's also, I think, a better job we can do in our E3 SKU, which is really a core value proposition. We added a lot of value to that SKU in Q4 in terms of security and auto-patching for Windows. It's a great value in the same way E5 is. We land the E5 really well. We've got some work to do on landing E3. So there is some macro. It seems pretty consistent, frankly, more than inconsistent with what we saw. And there is some execution that I think, frankly, we can get better at as well. Thank you. Thanks, Brent. Jesse, next question, please. Our next question is coming from Mark Murphy with JP Morgan. Please proceed with your question. Yes, thank you very much. Satya, this quarter, we're seeing an inflection in many of your AI breakthroughs, thinking of GitHub Copilot and the image generation in your designer product. What is it that's enabling you to innovate so rapidly and essentially to be first to market? I'm wondering if it's the open AI relationship or maybe some of your inferencing capabilities or something else. And then as a quick follow-up, Amy, you did mention the lower margins in Azure due to the higher energy costs. Are you inferring that we can kind of dimensionalize that incremental impact at something like 200 million per quarter, and then is there anything you can do to try to manage that through this period? Yeah, thanks for the question. First, yes, the open AI partnership is a very critical partnership for us. Perhaps it's sort of important to call out that we built the supercomputing capability inside of Azure, which is highly differentiated. The way computing, the network in particular, come together in order to support these large-scale training of these platform models or foundation models has been very critical. That's what's driven, in fact, the progress open AI has been making. And of course, we then productize it as part of Azure Open AI services. And that's what we're seeing, quote, be used by our own first-party applications, whether it's the GitHub Copilot or Designer, even inside Edge. And then, of course, the third-party like Mattel. So we're very excited about that. We have a lot sort of more sort of talk about when it comes to GitHub Universe. I think you'll see more advances on the GitHub Copilot, which is off to a fantastic start. But overall, this is an area of huge investment. The AI moment clearly has arrived and it's going to be part of every product, whether it's, in fact, you mentioned our Power Platform, because that's another area we are innovating in terms of corporate all of these AI models. So yeah, so I think AI is a place where I think we have differentiated capability at the infrastructure layer for training and inference. And the model themselves are platforms for third parties. And our first-party applications are getting better because of the use of those AI models. And to your question on energy costs, let me try to provide a little bit of help there. We did not see as big of that, as I said, it's over 800 for the year. Some of that was in Q1, but the majority of it will be in Q2 through four. And I think if you want to think about it as somewhere, you know, 250-ish a quarter, it's not exact, but that would be a decent assumption for the remainder of the year. Thank you. Thanks, Mark. Jessie, next question, please. Our next question is coming from the line of Carl Kersted with UBS. Please proceed with your question. Okay, great. Amy, I'd love to just ask you around margins. Clearly, you're experiencing a little bit more sales mix given the weakness on the Windows side. It looks like you've elected not to throttle back OPEX to enable you to meet the three months ago guidance for flat margins. So they'll now drift a little bit lower. Do you mind talking through that decisions? Why not throttle back OPEX as a counter to that Windows pressure? Thanks, Carl. And I shared a little bit on the call, but let me share a little more because I think it's important in terms of how we think about investment and continuing to invest where we're seeing substantial opportunity and growth. The PC market is cyclical and we had some great benefits for a couple of years during the pandemic. And we chose not to spend against that favorability over the past couple of years. And it fell to the bottom line and you saw substantially increased margins over that time period. And we did that intentionally because it is a cyclical market. And so in the same way I see it now is that PCs are going to be a tough headwind for us for the year, but overall the Windows back to install base, our ability to grow usage, it's still higher than it was. And that's a good opportunity for us. And so in the same way that we let it fall to the bottom line when we saw a surge, it's important to stay consistent in this town market because when you have type of opportunity that we have, specifically in the commercial business and the TAMs that Satya talked about as being some of our most exciting, and you have the opportunity with your customers to gain share, to gain confidence, right? And I think it's important to have a steady hand. Now, let me also say, it is not as though we are not responding to the macro environment around cost. As I commented, our sequential headcount growth from Q1 to Q2 will be minimal. It'll be about investing where we said we would invest, which is in focused areas. It's about moving headcount to make sure inside the company we've got it on the highest and most important things. We've added a lot of headcount over the past 12 months, and we wanna make sure we use those headcount in the most productive way possible. And we're going to do that. And also we're gonna frankly lap some investments that we've made at the end of H2, Carl. We closed Nuance at the end of Q3. We closed Zander in Q4. When we come and lap those, you will see a material decline in OffX investment. You will also see us start to lap some of the headcount surges that we made last year in key areas. And by then, I feel good that we'll see productivity improvements from the headcount we have and our focus. And so it's an ability to say, absolutely, I wanna stay consistent, and we'll respond to the macro. It's possible to do both those things, and I think that's what we're doing. Got it, thank you. Thanks, Carl. Jessie, next question, please. Our next question is coming from Brad Sills with Bank of America. Please proceed with your question. Oh, wonderful, thanks for taking my question. I wanted to ask a question about office commercial. A lot of the growth here is driven by subscriber growth. This quarter, for example, 17% constant currency, subscriber growth of 14. Could you remind us where the incremental subscribers coming from? Could we see that mix of growth shift away from subscribers towards ASP potentially over time? I think you're already over 300 million subscribers. So just any color on just the runway from here, where's the incremental seat coming from? And with all the work that you're doing with E3, E5, and collaboration security analytics, might we see more of the growth coming from ASP versus subscriber growth over time? Thank you so much. Thanks, Brad. It's a good question because you've continued to see this seat growth, I think for actually much longer than many of the investors had expected. And it really should continue in some ways because we're focusing on frontline worker scenarios. We're continuing to focus on small and mid-sized business growth. And we're adding new things to which you can grow, whether that's Viva, whether it's Teams, there's new things that enable us to add relevancy, frankly, and then to add value and then to add seats. And so I don't want to say it has to be again, this vision of ore. So I think you'll continue to see lower end seat growth, which is what we've been seeing. And you will see us continue to focus on the value of E5 and the E3 skew where we've added some value, making sure we can still move people to that suite as well. And so you will see, right, over time, long-term, the seat growth and move a little bit, and then you'll see ASP show up. And it depends a little bit on VIX, frankly, each quarter. You saw a little more ARPU in Q4, you saw a little less in Q1 that had to do with some E3 execution in Q1. But I actually think there's room to do both those things. And I felt that way now for a couple of years. Great to hear. Thanks, Amy. Thanks, Fred. Jesse, next question, please. Our next question is coming from the line of Greg Moskowitz with Mizuho. Please proceed with your question. Okay, thank you. I'm not sure, Amy, as a follow-up on Azure, I'm curious how you foresee the magnitude of two different variables on cloud computing demand over the near to medium term. The first being economic pressures on the willingness of some customers to spend, and the second being the impact of the spiking energy costs, perhaps as a facilitator for something to do more in the cloud. Do you see these as largely offsetting factors, or are you expecting the former variable to be a lot more prominent than the latter? Thank you. Yeah, I mean, the way we see it is overall macro will mean that everybody's going to optimize their bill. In fact, as Amy said, our job number one for large swaths of our sort of even customer-facing organizations is to proactively help them optimize. In fact, our incentives in our customer success teams are lined up with them helping customers quote, unquote, do more with less. So that's sort of one side. The thing, though, from a customer perspective, the best way for them to align their spend with what is uncertain demand is to move to the cloud. So we see the value prop of the cloud. So the big winner in all of this will be public cloud because public cloud helps businesses offset the risk of taking demand risk. The other side, as you described it, is the risk around supply chain or energy costs. And so that's another one. Best way to hedge against any energy cost and be, in fact, more energy efficient is to move to the cloud. So that's where I think a little bit of, you know, as you all think about what happens to cloud, for us, we look at this and say, this is a period where cloud's going to gain share because we're still in the early innings of adoption. And so we just want to invest going into it with that mindset and build long-term customer loyalty. Very helpful. Thank you. Thanks, Greg. Jesse, we have time for one last question. Thank you. Our final question is coming from a line of Brent Braceland with Piper Sandler. Please proceed with your question. Good afternoon. Thanks for taking the question here. Helpful color on cloud. I wanted to pivot to advertising. This was a segment that crossed over $10 billion, I think, earlier this year. Netflix rolling out ad-supported model next year, powered by Microsoft. What is the broader Microsoft advertising ambitions, maybe three to five years here, given these are very large and very profitable segments that Microsoft has not historically focused on? Thanks. No, thanks for the question. No, you know, we are... Our core advertising business has got two elements to it. One is, I'll call it the LinkedIn B2B advertising, where we clearly have a leadership position around both reach, quality of ROI, and we'll continue... Of course, it will be cyclically impacted, but we feel that the LinkedIn engagement continues to grow. And as that market comes back, our premium position with LinkedIn, or owned and operated, I feel, well, very well positioned. We'll continue to invest in that space. The second one is the place where we are, again, very, very focused on, first, starting with our own owned and operated. So when we talk about the overall active devices of Windows have grown by 20% over the pandemic, one of the big opportunities it opens up is for us to take our own owned and operated inventory, whether it is Bing and Search, whether it's the Feed. And those are things that you see some of the growth. We are sharetakers in the browser, we're sharetakers in terms of engagement of the Feed, and those are things that we are high leverage on top of the install base that's now structurally changed in terms of growth. And then the third party with Netflix, we're really excited about that, and we're going to look to grow our... First, make Netflix a successful partner, but we're going to continue to grow our third party business on the ad platform. So those would be the three areas, LinkedIn, our own operated advertising, both Search and Feed, as well as third party ad network. Thanks, Brett. That wraps up the Q&A portion of today's earnings call. Thank you for joining us today, and we look forward to speak with all of you soon. Thank you. Thank you very much. Thank you. Ladies and gentlemen, this does conclude today's teleconference. We thank you for your participation, and you may disconnect your lines at this time. Thank you.\n"
          ]
        }
      ]
    },
    {
      "cell_type": "markdown",
      "source": [
        "# BART Summarizer"
      ],
      "metadata": {
        "id": "1P3z0-wiWVyF"
      }
    },
    {
      "cell_type": "code",
      "source": [
        "import pandas as pd\n",
        "import random\n",
        "from transformers import BartTokenizer, BartForConditionalGeneration\n",
        "from bert_score import score\n",
        "from rouge_score import rouge_scorer\n",
        "\n",
        "# Load the trained model\n",
        "model_dir = \"/content/drive/MyDrive/TrainingBart/FineTuned\"\n",
        "tokenizer = BartTokenizer.from_pretrained(model_dir)\n",
        "model = BartForConditionalGeneration.from_pretrained(model_dir)"
      ],
      "metadata": {
        "id": "Lui-ZIFwWYYr"
      },
      "execution_count": null,
      "outputs": []
    },
    {
      "cell_type": "code",
      "source": [
        "def chunk_text(text, chunk_size=1024):\n",
        "    words = text.split()\n",
        "    return [' '.join(words[i:i + chunk_size]) for i in range(0, len(words), chunk_size)]\n",
        "\n",
        "def summarize_chunk(chunk):\n",
        "    inputs = tokenizer.encode(\"summarize: \" + chunk, return_tensors=\"pt\", max_length=1024, truncation=True)\n",
        "    summary_ids = model.generate(inputs, max_length=150, min_length=40, length_penalty=2.0, num_beams=4, early_stopping=True)\n",
        "    summary = tokenizer.decode(summary_ids[0], skip_special_tokens=True)\n",
        "    return summary\n"
      ],
      "metadata": {
        "id": "6M9t-G98vfDW"
      },
      "execution_count": null,
      "outputs": []
    },
    {
      "cell_type": "code",
      "source": [
        "chunks = chunk_text(transcript, chunk_size=1024)\n",
        "chunk_summaries = [summarize_chunk(chunk) for chunk in chunks]\n",
        "\n",
        "combined_summary = ' '.join(chunk_summaries)\n",
        "\n",
        "P, R, F1 = score([combined_summary], [transcript], lang=\"en\", verbose=True)\n",
        "\n",
        "rouge_scores = rouge_scorer.score(transcript, combined_summary)\n",
        "\n",
        "print(f\"Summary: {combined_summary}\")\n",
        "print(f\"BERTScore - Precision: {P.mean().item()}, Recall: {R.mean().item()}, F1: {F1.mean().item()}\")\n",
        "print(f\"ROUGE - ROUGE-1: {rouge_scores['rouge1'].fmeasure}, ROUGE-2: {rouge_scores['rouge2'].fmeasure}, ROUGE-L: {rouge_scores['rougeL'].fmeasure}\")\n",
        "print(\"-------------------------------------------------------------\")"
      ],
      "metadata": {
        "id": "bsoSGQdSvgsj"
      },
      "execution_count": null,
      "outputs": []
    },
    {
      "cell_type": "code",
      "source": [],
      "metadata": {
        "id": "AajPx8T-vw-v"
      },
      "execution_count": null,
      "outputs": []
    },
    {
      "cell_type": "markdown",
      "source": [
        "#FINGPT Model"
      ],
      "metadata": {
        "id": "NhXoClIuN1Ho"
      }
    },
    {
      "cell_type": "code",
      "source": [
        "!pip install peft"
      ],
      "metadata": {
        "colab": {
          "base_uri": "https://localhost:8080/"
        },
        "id": "VVKx8K-yQ3LQ",
        "outputId": "f1b19e9d-c324-4f5a-d6af-74f377adc321"
      },
      "execution_count": null,
      "outputs": [
        {
          "output_type": "stream",
          "name": "stdout",
          "text": [
            "Collecting peft\n",
            "  Downloading peft-0.11.1-py3-none-any.whl (251 kB)\n",
            "\u001b[?25l     \u001b[90m━━━━━━━━━━━━━━━━━━━━━━━━━━━━━━━━━━━━━━━━\u001b[0m \u001b[32m0.0/251.6 kB\u001b[0m \u001b[31m?\u001b[0m eta \u001b[36m-:--:--\u001b[0m\r\u001b[2K     \u001b[91m━━━━━━━━━━━━━━━━━━━━━━━━━━━━━━━━━━━━━━━\u001b[0m\u001b[90m╺\u001b[0m \u001b[32m245.8/251.6 kB\u001b[0m \u001b[31m8.7 MB/s\u001b[0m eta \u001b[36m0:00:01\u001b[0m\r\u001b[2K     \u001b[90m━━━━━━━━━━━━━━━━━━━━━━━━━━━━━━━━━━━━━━━━\u001b[0m \u001b[32m251.6/251.6 kB\u001b[0m \u001b[31m6.9 MB/s\u001b[0m eta \u001b[36m0:00:00\u001b[0m\n",
            "\u001b[?25hRequirement already satisfied: numpy>=1.17 in /usr/local/lib/python3.10/dist-packages (from peft) (1.25.2)\n",
            "Requirement already satisfied: packaging>=20.0 in /usr/local/lib/python3.10/dist-packages (from peft) (24.0)\n",
            "Requirement already satisfied: psutil in /usr/local/lib/python3.10/dist-packages (from peft) (5.9.5)\n",
            "Requirement already satisfied: pyyaml in /usr/local/lib/python3.10/dist-packages (from peft) (6.0.1)\n",
            "Requirement already satisfied: torch>=1.13.0 in /usr/local/lib/python3.10/dist-packages (from peft) (2.3.0+cu121)\n",
            "Requirement already satisfied: transformers in /usr/local/lib/python3.10/dist-packages (from peft) (4.41.2)\n",
            "Requirement already satisfied: tqdm in /usr/local/lib/python3.10/dist-packages (from peft) (4.66.4)\n",
            "Collecting accelerate>=0.21.0 (from peft)\n",
            "  Downloading accelerate-0.30.1-py3-none-any.whl (302 kB)\n",
            "\u001b[?25l     \u001b[90m━━━━━━━━━━━━━━━━━━━━━━━━━━━━━━━━━━━━━━━━\u001b[0m \u001b[32m0.0/302.6 kB\u001b[0m \u001b[31m?\u001b[0m eta \u001b[36m-:--:--\u001b[0m\r\u001b[2K     \u001b[90m━━━━━━━━━━━━━━━━━━━━━━━━━━━━━━━━━━━━━━━━\u001b[0m \u001b[32m302.6/302.6 kB\u001b[0m \u001b[31m28.7 MB/s\u001b[0m eta \u001b[36m0:00:00\u001b[0m\n",
            "\u001b[?25hRequirement already satisfied: safetensors in /usr/local/lib/python3.10/dist-packages (from peft) (0.4.3)\n",
            "Requirement already satisfied: huggingface-hub>=0.17.0 in /usr/local/lib/python3.10/dist-packages (from peft) (0.23.2)\n",
            "Requirement already satisfied: filelock in /usr/local/lib/python3.10/dist-packages (from huggingface-hub>=0.17.0->peft) (3.14.0)\n",
            "Requirement already satisfied: fsspec>=2023.5.0 in /usr/local/lib/python3.10/dist-packages (from huggingface-hub>=0.17.0->peft) (2023.6.0)\n",
            "Requirement already satisfied: requests in /usr/local/lib/python3.10/dist-packages (from huggingface-hub>=0.17.0->peft) (2.31.0)\n",
            "Requirement already satisfied: typing-extensions>=3.7.4.3 in /usr/local/lib/python3.10/dist-packages (from huggingface-hub>=0.17.0->peft) (4.12.1)\n",
            "Requirement already satisfied: sympy in /usr/local/lib/python3.10/dist-packages (from torch>=1.13.0->peft) (1.12.1)\n",
            "Requirement already satisfied: networkx in /usr/local/lib/python3.10/dist-packages (from torch>=1.13.0->peft) (3.3)\n",
            "Requirement already satisfied: jinja2 in /usr/local/lib/python3.10/dist-packages (from torch>=1.13.0->peft) (3.1.4)\n",
            "Requirement already satisfied: nvidia-cuda-nvrtc-cu12==12.1.105 in /usr/local/lib/python3.10/dist-packages (from torch>=1.13.0->peft) (12.1.105)\n",
            "Requirement already satisfied: nvidia-cuda-runtime-cu12==12.1.105 in /usr/local/lib/python3.10/dist-packages (from torch>=1.13.0->peft) (12.1.105)\n",
            "Requirement already satisfied: nvidia-cuda-cupti-cu12==12.1.105 in /usr/local/lib/python3.10/dist-packages (from torch>=1.13.0->peft) (12.1.105)\n",
            "Requirement already satisfied: nvidia-cudnn-cu12==8.9.2.26 in /usr/local/lib/python3.10/dist-packages (from torch>=1.13.0->peft) (8.9.2.26)\n",
            "Requirement already satisfied: nvidia-cublas-cu12==12.1.3.1 in /usr/local/lib/python3.10/dist-packages (from torch>=1.13.0->peft) (12.1.3.1)\n",
            "Requirement already satisfied: nvidia-cufft-cu12==11.0.2.54 in /usr/local/lib/python3.10/dist-packages (from torch>=1.13.0->peft) (11.0.2.54)\n",
            "Requirement already satisfied: nvidia-curand-cu12==10.3.2.106 in /usr/local/lib/python3.10/dist-packages (from torch>=1.13.0->peft) (10.3.2.106)\n",
            "Requirement already satisfied: nvidia-cusolver-cu12==11.4.5.107 in /usr/local/lib/python3.10/dist-packages (from torch>=1.13.0->peft) (11.4.5.107)\n",
            "Requirement already satisfied: nvidia-cusparse-cu12==12.1.0.106 in /usr/local/lib/python3.10/dist-packages (from torch>=1.13.0->peft) (12.1.0.106)\n",
            "Requirement already satisfied: nvidia-nccl-cu12==2.20.5 in /usr/local/lib/python3.10/dist-packages (from torch>=1.13.0->peft) (2.20.5)\n",
            "Requirement already satisfied: nvidia-nvtx-cu12==12.1.105 in /usr/local/lib/python3.10/dist-packages (from torch>=1.13.0->peft) (12.1.105)\n",
            "Requirement already satisfied: triton==2.3.0 in /usr/local/lib/python3.10/dist-packages (from torch>=1.13.0->peft) (2.3.0)\n",
            "Requirement already satisfied: nvidia-nvjitlink-cu12 in /usr/local/lib/python3.10/dist-packages (from nvidia-cusolver-cu12==11.4.5.107->torch>=1.13.0->peft) (12.5.40)\n",
            "Requirement already satisfied: regex!=2019.12.17 in /usr/local/lib/python3.10/dist-packages (from transformers->peft) (2024.5.15)\n",
            "Requirement already satisfied: tokenizers<0.20,>=0.19 in /usr/local/lib/python3.10/dist-packages (from transformers->peft) (0.19.1)\n",
            "Requirement already satisfied: MarkupSafe>=2.0 in /usr/local/lib/python3.10/dist-packages (from jinja2->torch>=1.13.0->peft) (2.1.5)\n",
            "Requirement already satisfied: charset-normalizer<4,>=2 in /usr/local/lib/python3.10/dist-packages (from requests->huggingface-hub>=0.17.0->peft) (3.3.2)\n",
            "Requirement already satisfied: idna<4,>=2.5 in /usr/local/lib/python3.10/dist-packages (from requests->huggingface-hub>=0.17.0->peft) (3.7)\n",
            "Requirement already satisfied: urllib3<3,>=1.21.1 in /usr/local/lib/python3.10/dist-packages (from requests->huggingface-hub>=0.17.0->peft) (2.0.7)\n",
            "Requirement already satisfied: certifi>=2017.4.17 in /usr/local/lib/python3.10/dist-packages (from requests->huggingface-hub>=0.17.0->peft) (2024.6.2)\n",
            "Requirement already satisfied: mpmath<1.4.0,>=1.1.0 in /usr/local/lib/python3.10/dist-packages (from sympy->torch>=1.13.0->peft) (1.3.0)\n",
            "Installing collected packages: accelerate, peft\n",
            "Successfully installed accelerate-0.30.1 peft-0.11.1\n"
          ]
        }
      ]
    },
    {
      "cell_type": "code",
      "source": [
        "from peft import PeftModel, PeftConfig\n",
        "from transformers import AutoModelForCausalLM\n",
        "\n",
        "config = PeftConfig.from_pretrained(\"FinGPT/fingpt-forecaster_dow30_llama2-7b_lora\")\n",
        "base_model = AutoModelForCausalLM.from_pretrained(\"base_models/Llama-2-7b-chat-hf\")\n",
        "model = PeftModel.from_pretrained(base_model, \"FinGPT/fingpt-forecaster_dow30_llama2-7b_lora\")"
      ],
      "metadata": {
        "id": "vXPTpQOtN3AF",
        "colab": {
          "base_uri": "https://localhost:8080/",
          "height": 418
        },
        "outputId": "9631b2a7-cf25-452b-d58a-f8064b6ecf8e"
      },
      "execution_count": null,
      "outputs": [
        {
          "output_type": "error",
          "ename": "ModuleNotFoundError",
          "evalue": "No module named 'peft'",
          "traceback": [
            "\u001b[0;31m---------------------------------------------------------------------------\u001b[0m",
            "\u001b[0;31mModuleNotFoundError\u001b[0m                       Traceback (most recent call last)",
            "\u001b[0;32m<ipython-input-11-21577490151f>\u001b[0m in \u001b[0;36m<cell line: 1>\u001b[0;34m()\u001b[0m\n\u001b[0;32m----> 1\u001b[0;31m \u001b[0;32mfrom\u001b[0m \u001b[0mpeft\u001b[0m \u001b[0;32mimport\u001b[0m \u001b[0mPeftModel\u001b[0m\u001b[0;34m,\u001b[0m \u001b[0mPeftConfig\u001b[0m\u001b[0;34m\u001b[0m\u001b[0;34m\u001b[0m\u001b[0m\n\u001b[0m\u001b[1;32m      2\u001b[0m \u001b[0;32mfrom\u001b[0m \u001b[0mtransformers\u001b[0m \u001b[0;32mimport\u001b[0m \u001b[0mAutoModelForCausalLM\u001b[0m\u001b[0;34m\u001b[0m\u001b[0;34m\u001b[0m\u001b[0m\n\u001b[1;32m      3\u001b[0m \u001b[0;34m\u001b[0m\u001b[0m\n\u001b[1;32m      4\u001b[0m \u001b[0mconfig\u001b[0m \u001b[0;34m=\u001b[0m \u001b[0mPeftConfig\u001b[0m\u001b[0;34m.\u001b[0m\u001b[0mfrom_pretrained\u001b[0m\u001b[0;34m(\u001b[0m\u001b[0;34m\"FinGPT/fingpt-forecaster_dow30_llama2-7b_lora\"\u001b[0m\u001b[0;34m)\u001b[0m\u001b[0;34m\u001b[0m\u001b[0;34m\u001b[0m\u001b[0m\n\u001b[1;32m      5\u001b[0m \u001b[0mbase_model\u001b[0m \u001b[0;34m=\u001b[0m \u001b[0mAutoModelForCausalLM\u001b[0m\u001b[0;34m.\u001b[0m\u001b[0mfrom_pretrained\u001b[0m\u001b[0;34m(\u001b[0m\u001b[0;34m\"base_models/Llama-2-7b-chat-hf\"\u001b[0m\u001b[0;34m)\u001b[0m\u001b[0;34m\u001b[0m\u001b[0;34m\u001b[0m\u001b[0m\n",
            "\u001b[0;31mModuleNotFoundError\u001b[0m: No module named 'peft'",
            "",
            "\u001b[0;31m---------------------------------------------------------------------------\u001b[0;32m\nNOTE: If your import is failing due to a missing package, you can\nmanually install dependencies using either !pip or !apt.\n\nTo view examples of installing some common dependencies, click the\n\"Open Examples\" button below.\n\u001b[0;31m---------------------------------------------------------------------------\u001b[0m\n"
          ],
          "errorDetails": {
            "actions": [
              {
                "action": "open_url",
                "actionText": "Open Examples",
                "url": "/notebooks/snippets/importing_libraries.ipynb"
              }
            ]
          }
        }
      ]
    }
  ]
}